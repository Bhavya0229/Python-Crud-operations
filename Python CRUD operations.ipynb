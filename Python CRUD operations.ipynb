{
 "cells": [
  {
   "cell_type": "code",
   "execution_count": 2,
   "id": "7ca4cfdb",
   "metadata": {},
   "outputs": [
    {
     "name": "stdout",
     "output_type": "stream",
     "text": [
      "Collecting mysql-connector-python\n",
      "  Downloading mysql_connector_python-8.0.31-cp38-cp38-win_amd64.whl (7.9 MB)\n",
      "Collecting protobuf<=3.20.1,>=3.11.0\n",
      "  Downloading protobuf-3.20.1-cp38-cp38-win_amd64.whl (904 kB)\n",
      "Installing collected packages: protobuf, mysql-connector-python\n",
      "Successfully installed mysql-connector-python-8.0.31 protobuf-3.20.1\n",
      "Note: you may need to restart the kernel to use updated packages.\n"
     ]
    }
   ],
   "source": [
    "pip install mysql-connector-python"
   ]
  },
  {
   "cell_type": "code",
   "execution_count": 1,
   "id": "0bc3a791",
   "metadata": {},
   "outputs": [],
   "source": [
    "import mysql.connector as sql"
   ]
  },
  {
   "cell_type": "code",
   "execution_count": 2,
   "id": "a23661fd",
   "metadata": {},
   "outputs": [
    {
     "name": "stdout",
     "output_type": "stream",
     "text": [
      "<mysql.connector.connection_cext.CMySQLConnection object at 0x000001F9CBF18190>\n"
     ]
    }
   ],
   "source": [
    "connection = sql.connect(\n",
    "host = 'localhost',\n",
    "user = 'root',\n",
    "password = 'Manager@543')\n",
    "\n",
    "print(connection)"
   ]
  },
  {
   "cell_type": "code",
   "execution_count": 3,
   "id": "1a6c7ed5",
   "metadata": {},
   "outputs": [],
   "source": [
    "cursor = connection.cursor()\n",
    "cursor.execute(\"CREATE DATABASE Employee_record\")\n",
    "cursor.execute('SHOW DATABASES')"
   ]
  },
  {
   "cell_type": "code",
   "execution_count": 3,
   "id": "b8425dfd",
   "metadata": {},
   "outputs": [
    {
     "name": "stdout",
     "output_type": "stream",
     "text": [
      "<mysql.connector.connection_cext.CMySQLConnection object at 0x000001F9CBF18760>\n"
     ]
    }
   ],
   "source": [
    "connection = sql.connect(\n",
    "  host=\"localhost\",\n",
    "  user=\"root\",\n",
    "  password=\"Manager@543\",\n",
    "  database=\"Employee_record\"\n",
    ")\n",
    "print(connection)"
   ]
  },
  {
   "cell_type": "code",
   "execution_count": 4,
   "id": "64d50cbb",
   "metadata": {},
   "outputs": [],
   "source": [
    "cursor = connection.cursor()\n"
   ]
  },
  {
   "cell_type": "code",
   "execution_count": 12,
   "id": "af717125",
   "metadata": {},
   "outputs": [],
   "source": [
    "cursor.execute('''CREATE table employeeinfo (id int auto_increment primary key, \n",
    "               name varchar(255),department varchar(255),Salary int)''')"
   ]
  },
  {
   "cell_type": "code",
   "execution_count": 16,
   "id": "7eba8fe8",
   "metadata": {},
   "outputs": [],
   "source": [
    "cursor.execute('''insert into employeeinfo (name, department,Salary) values ('Bhavya','IT',50000),('Priyanshi','ECE',30000),\n",
    "                ('Krishna','CSE',70000),('Naveesh','EE',20000),('Radha','CSE',70000),('Shubham','Finance',40000)''')"
   ]
  },
  {
   "cell_type": "code",
   "execution_count": 17,
   "id": "0516a6fe",
   "metadata": {},
   "outputs": [],
   "source": [
    "connection.commit()"
   ]
  },
  {
   "cell_type": "code",
   "execution_count": 18,
   "id": "44c19ca9",
   "metadata": {},
   "outputs": [
    {
     "name": "stdout",
     "output_type": "stream",
     "text": [
      "Record inserted successfully...\n"
     ]
    }
   ],
   "source": [
    "print('Record inserted successfully...')"
   ]
  },
  {
   "cell_type": "code",
   "execution_count": 19,
   "id": "53c76868",
   "metadata": {},
   "outputs": [
    {
     "data": {
      "text/plain": [
       "[(1, 'Bhavya', 'IT', 50000),\n",
       " (2, 'Priyanshi', 'ECE', 30000),\n",
       " (3, 'Krishna', 'CSE', 70000),\n",
       " (4, 'Naveesh', 'EE', 20000),\n",
       " (5, 'Radha', 'CSE', 70000),\n",
       " (6, 'Shubham', 'Finance', 40000)]"
      ]
     },
     "execution_count": 19,
     "metadata": {},
     "output_type": "execute_result"
    }
   ],
   "source": [
    "cursor.execute(\"Select * from employeeinfo\")\n",
    "cursor.fetchall()"
   ]
  },
  {
   "cell_type": "code",
   "execution_count": 20,
   "id": "90d053ab",
   "metadata": {},
   "outputs": [
    {
     "data": {
      "text/plain": [
       "[(3, 'Krishna', 'CSE', 70000)]"
      ]
     },
     "execution_count": 20,
     "metadata": {},
     "output_type": "execute_result"
    }
   ],
   "source": [
    "#based on name\n",
    "cursor.execute(\"Select * from employeeinfo where name='Krishna'\")\n",
    "cursor.fetchall()"
   ]
  },
  {
   "cell_type": "code",
   "execution_count": 21,
   "id": "c993d254",
   "metadata": {},
   "outputs": [
    {
     "data": {
      "text/plain": [
       "[('IT',), ('ECE',), ('CSE',), ('EE',), ('CSE',), ('Finance',)]"
      ]
     },
     "execution_count": 21,
     "metadata": {},
     "output_type": "execute_result"
    }
   ],
   "source": [
    "#based on department\n",
    "cursor.execute(\"Select department from employeeinfo\")\n",
    "cursor.fetchall()"
   ]
  },
  {
   "cell_type": "code",
   "execution_count": 22,
   "id": "4978beb1",
   "metadata": {},
   "outputs": [
    {
     "data": {
      "text/plain": [
       "[('IT',), ('ECE',), ('CSE',), ('EE',), ('Finance',)]"
      ]
     },
     "execution_count": 22,
     "metadata": {},
     "output_type": "execute_result"
    }
   ],
   "source": [
    "#To know the distinct department\n",
    "cursor.execute(\"SELECT DISTINCT department from employeeinfo\")\n",
    "cursor.fetchall()"
   ]
  },
  {
   "cell_type": "code",
   "execution_count": 30,
   "id": "40cdb792",
   "metadata": {},
   "outputs": [
    {
     "data": {
      "text/plain": [
       "[(3, 'Krishna', 'CSE', 70000)]"
      ]
     },
     "execution_count": 30,
     "metadata": {},
     "output_type": "execute_result"
    }
   ],
   "source": [
    "#To know the maximum salaried employee\n",
    "cursor.execute(\"SELECT * from employeeinfo order by salary desc limit 1\")\n",
    "cursor.fetchall()"
   ]
  },
  {
   "cell_type": "code",
   "execution_count": 6,
   "id": "87631433",
   "metadata": {},
   "outputs": [
    {
     "data": {
      "text/plain": [
       "[]"
      ]
     },
     "execution_count": 6,
     "metadata": {},
     "output_type": "execute_result"
    }
   ],
   "source": [
    "#To update the department\n",
    "cursor.execute(\"UPDATE employeeinfo SET department='ML' WHERE name='Bhavya'\")"
   ]
  },
  {
   "cell_type": "code",
   "execution_count": 7,
   "id": "8a110f9a",
   "metadata": {},
   "outputs": [],
   "source": [
    "connection.commit()"
   ]
  },
  {
   "cell_type": "code",
   "execution_count": 8,
   "id": "2d97db0b",
   "metadata": {},
   "outputs": [
    {
     "data": {
      "text/plain": [
       "[(1, 'Bhavya', 'ML', 50000),\n",
       " (2, 'Priyanshi', 'ECE', 30000),\n",
       " (3, 'Krishna', 'CSE', 70000),\n",
       " (4, 'Naveesh', 'EE', 20000),\n",
       " (5, 'Radha', 'CSE', 70000),\n",
       " (6, 'Shubham', 'Finance', 40000)]"
      ]
     },
     "execution_count": 8,
     "metadata": {},
     "output_type": "execute_result"
    }
   ],
   "source": [
    "cursor.execute(\"Select * from employeeinfo\")\n",
    "cursor.fetchall()"
   ]
  },
  {
   "cell_type": "code",
   "execution_count": 10,
   "id": "05ed0088",
   "metadata": {},
   "outputs": [],
   "source": [
    "#delete a record\n",
    "cursor.execute(\"DELETE from employeeinfo where name='Shubham'\")\n",
    "connection.commit()"
   ]
  },
  {
   "cell_type": "code",
   "execution_count": 11,
   "id": "9fab5859",
   "metadata": {},
   "outputs": [
    {
     "data": {
      "text/plain": [
       "[(1, 'Bhavya', 'ML', 50000),\n",
       " (2, 'Priyanshi', 'ECE', 30000),\n",
       " (3, 'Krishna', 'CSE', 70000),\n",
       " (4, 'Naveesh', 'EE', 20000),\n",
       " (5, 'Radha', 'CSE', 70000)]"
      ]
     },
     "execution_count": 11,
     "metadata": {},
     "output_type": "execute_result"
    }
   ],
   "source": [
    "cursor.execute(\"Select * from employeeinfo\")\n",
    "cursor.fetchall()"
   ]
  },
  {
   "cell_type": "code",
   "execution_count": null,
   "id": "0d518ec6",
   "metadata": {},
   "outputs": [],
   "source": []
  }
 ],
 "metadata": {
  "kernelspec": {
   "display_name": "Python 3",
   "language": "python",
   "name": "python3"
  },
  "language_info": {
   "codemirror_mode": {
    "name": "ipython",
    "version": 3
   },
   "file_extension": ".py",
   "mimetype": "text/x-python",
   "name": "python",
   "nbconvert_exporter": "python",
   "pygments_lexer": "ipython3",
   "version": "3.8.8"
  }
 },
 "nbformat": 4,
 "nbformat_minor": 5
}
